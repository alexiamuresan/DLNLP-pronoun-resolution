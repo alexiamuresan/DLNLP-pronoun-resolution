{
  "nbformat": 4,
  "nbformat_minor": 0,
  "metadata": {
    "colab": {
      "provenance": [],
      "gpuType": "T4"
    },
    "kernelspec": {
      "name": "python3",
      "display_name": "Python 3"
    },
    "language_info": {
      "name": "python"
    },
    "accelerator": "GPU"
  },
  "cells": [
    {
      "cell_type": "code",
      "execution_count": 8,
      "metadata": {
        "colab": {
          "base_uri": "https://localhost:8080/"
        },
        "id": "9QxFP8w1WwUr",
        "outputId": "49132c3e-d572-4262-ac41-b049dfb442aa"
      },
      "outputs": [
        {
          "output_type": "stream",
          "name": "stdout",
          "text": [
            "Drive already mounted at /content/drive; to attempt to forcibly remount, call drive.mount(\"/content/drive\", force_remount=True).\n"
          ]
        }
      ],
      "source": [
        "from google.colab import drive\n",
        "drive.mount('/content/drive')\n"
      ]
    },
    {
      "cell_type": "code",
      "source": [
        "tsv_file_path = '/content/drive/My Drive/gap-test.tsv'\n"
      ],
      "metadata": {
        "id": "nQkKQaDhXnCA"
      },
      "execution_count": 9,
      "outputs": []
    },
    {
      "cell_type": "code",
      "source": [
        "pip install language_tool_python"
      ],
      "metadata": {
        "colab": {
          "base_uri": "https://localhost:8080/"
        },
        "id": "7k_K6RFhHm1t",
        "outputId": "b1f62276-22c0-4cc4-a7df-af65cce897d8"
      },
      "execution_count": 5,
      "outputs": [
        {
          "output_type": "stream",
          "name": "stdout",
          "text": [
            "Collecting language_tool_python\n",
            "  Downloading language_tool_python-2.7.1-py3-none-any.whl (34 kB)\n",
            "Requirement already satisfied: requests in /usr/local/lib/python3.10/dist-packages (from language_tool_python) (2.31.0)\n",
            "Requirement already satisfied: tqdm in /usr/local/lib/python3.10/dist-packages (from language_tool_python) (4.66.1)\n",
            "Requirement already satisfied: charset-normalizer<4,>=2 in /usr/local/lib/python3.10/dist-packages (from requests->language_tool_python) (3.3.0)\n",
            "Requirement already satisfied: idna<4,>=2.5 in /usr/local/lib/python3.10/dist-packages (from requests->language_tool_python) (3.4)\n",
            "Requirement already satisfied: urllib3<3,>=1.21.1 in /usr/local/lib/python3.10/dist-packages (from requests->language_tool_python) (2.0.6)\n",
            "Requirement already satisfied: certifi>=2017.4.17 in /usr/local/lib/python3.10/dist-packages (from requests->language_tool_python) (2023.7.22)\n",
            "Installing collected packages: language_tool_python\n",
            "Successfully installed language_tool_python-2.7.1\n"
          ]
        }
      ]
    },
    {
      "cell_type": "code",
      "source": [
        "import pandas as pd\n",
        "import spacy\n",
        "from language_tool_python import LanguageTool\n",
        "\n",
        "\n",
        "\n",
        "df = pd.read_csv(tsv_file_path, sep='\\t', header=0, encoding='utf-8')\n"
      ],
      "metadata": {
        "id": "44wQZXRbXoAJ"
      },
      "execution_count": 10,
      "outputs": []
    },
    {
      "cell_type": "code",
      "source": [
        "\n",
        "\n",
        "\n",
        "nlp = spacy.load(\"en_core_web_sm\")\n",
        "\n",
        "# to check grammar\n",
        "tool = LanguageTool('en-US')\n",
        "\n",
        "# this use of spaces aims to avoid wrongful replacements within other words, and\n",
        "# to take into account capiatalisation\n",
        "replacements = {\n",
        "    \"She \": \"They \",\n",
        "    \" she\": \" they\",\n",
        "    \" he\": \" they\",\n",
        "    \"He \": \"They \",\n",
        "    \"Her \": \"Their \",\n",
        "    \" her\": \" their\",\n",
        "    \" him\": \" them\",\n",
        "    \"Him \": \"Them \",\n",
        "    \" herself\": \" themself\",\n",
        "    \" himself\": \" themself\",\n",
        "    \"His\": \"Theirs\",\n",
        "    \"Hers \": \"Theirs \",\n",
        "    \" his\": \" theirs\",\n",
        "    \" hers\": \" theirs\"\n",
        "}\n",
        "\n",
        "# iterate over 'Text' column\n",
        "for index, row in df.iterrows():\n",
        "    sentence = row['Text']\n",
        "\n",
        "    # do the replacements\n",
        "    modified_sentence = sentence\n",
        "    for key, value in replacements.items():\n",
        "        modified_sentence = modified_sentence.replace(key, value)\n",
        "\n",
        "    # grammar check on the modified sentence\n",
        "    corrected_text = tool.correct(modified_sentence)\n",
        "\n",
        "    # update 'Text' column with new version\n",
        "    df.at[index, 'Text'] = corrected_text\n",
        "\n",
        "print(df)\n",
        "\n",
        "\n"
      ],
      "metadata": {
        "colab": {
          "base_uri": "https://localhost:8080/"
        },
        "id": "AEK6i3PCLHr1",
        "outputId": "f5485243-de8f-4cd2-d606-f835f931b3d2"
      },
      "execution_count": 11,
      "outputs": [
        {
          "output_type": "stream",
          "name": "stdout",
          "text": [
            "             ID                                               Text Pronoun  \\\n",
            "0        test-1  Upon their acceptance into the Continental Hoc...     His   \n",
            "1        test-2  Between the years 1979-1981, River won four lo...     him   \n",
            "2        test-3  Though theirs emigration from the country has ...      He   \n",
            "3        test-4  At the trial, Ricotta said: ``Those who have m...     his   \n",
            "4        test-5  It is about a pair of United States Navy shore...     his   \n",
            "...         ...                                                ...     ...   \n",
            "1995  test-1996  The sole exception was Wimbledon, where they p...     She   \n",
            "1996  test-1997  According to news reports, both Moore and Flaw...     her   \n",
            "1997  test-1998  In June 2009, due to the popularity of the Sab...     She   \n",
            "1998  test-1999  They are delivered to the Norwegian passenger ...     she   \n",
            "1999  test-2000  Meg and Vicky each have three siblings, and ha...     her   \n",
            "\n",
            "      Pronoun-offset                   A  A-offset  A-coref  \\\n",
            "0                383           Bob Suter       352    False   \n",
            "1                430              Alonso       353     True   \n",
            "2                312        Ali Aladhadh       256     True   \n",
            "3                526             Alliata       377    False   \n",
            "4                406               Eddie       421     True   \n",
            "...              ...                 ...       ...      ...   \n",
            "1995             479    Goolagong Cawley       400     True   \n",
            "1996             338  Esther Sheryl Wood       263     True   \n",
            "1997             328               Kayla       364     True   \n",
            "1998             305                Irma       255     True   \n",
            "1999             275        Vicky Austin       217     True   \n",
            "\n",
            "                       B  B-offset  B-coref  \\\n",
            "0                 Dehner       366     True   \n",
            "1     Alfredo Di St*fano       390    False   \n",
            "2                 Saddam       295    False   \n",
            "3              Pisciotta       536     True   \n",
            "4            Rock Reilly       559    False   \n",
            "...                  ...       ...      ...   \n",
            "1995        Peggy Michel       432    False   \n",
            "1996      Barbara Morgan       404    False   \n",
            "1997  Natasha Henstridge       412    False   \n",
            "1998              Bergen       274    False   \n",
            "1999       Polly O'Keefe       260    False   \n",
            "\n",
            "                                                    URL  \n",
            "0            http://en.wikipedia.org/wiki/Jeremy_Dehner  \n",
            "1          http://en.wikipedia.org/wiki/Norberto_Alonso  \n",
            "2                 http://en.wikipedia.org/wiki/Aladhadh  \n",
            "3        http://en.wikipedia.org/wiki/Gaspare_Pisciotta  \n",
            "4                  http://en.wikipedia.org/wiki/Chasers  \n",
            "...                                                 ...  \n",
            "1995  http://en.wikipedia.org/wiki/Evonne_Goolagong_...  \n",
            "1996  http://en.wikipedia.org/wiki/Hastings_Arthur_Wise  \n",
            "1997          http://en.wikipedia.org/wiki/Raya_Meddine  \n",
            "1998        http://en.wikipedia.org/wiki/SS_Irma_(1905)  \n",
            "1999          http://en.wikipedia.org/wiki/Vicky_Austin  \n",
            "\n",
            "[2000 rows x 11 columns]\n"
          ]
        }
      ]
    },
    {
      "cell_type": "code",
      "source": [],
      "metadata": {
        "id": "MCed11AzNa00"
      },
      "execution_count": 11,
      "outputs": []
    },
    {
      "cell_type": "code",
      "source": [
        "\n",
        "file_path = \"/content/drive/My Drive/GAP/test-GAP-NB.tsv\"\n",
        "df.to_csv(file_path, sep='\\t', index=False)\n"
      ],
      "metadata": {
        "id": "RXebp-CqMFac"
      },
      "execution_count": 273,
      "outputs": []
    },
    {
      "cell_type": "code",
      "source": [
        "# replacements = {\n",
        "#     \" She\": \" They\",\n",
        "#     \" she\": \" they\",\n",
        "#     \" he\": \" They\",\n",
        "#     \" He\": \" They\",\n",
        "#     \" Her\": \" Their\",\n",
        "#     \" her\": \" their\",\n",
        "#     \" him\": \" them\",\n",
        "#     \" Him\": \" Them\",\n",
        "#     \" herself\": \" themself\",\n",
        "#     \" himself\": \" themself\",\n",
        "#     \" His\": \" Theirs\",\n",
        "#     \" Hers\": \" Theirs\",\n",
        "#     \" his\": \" theirs\",\n",
        "#     \" hers\": \" theirs\"\n",
        "# }\n",
        "\n",
        "\n",
        "# for index, row in df.iterrows():\n",
        "#     sentence = row['Text']\n",
        "\n",
        "\n",
        "#     modified_sentence = sentence\n",
        "#     for key, value in replacements.items():\n",
        "#         modified_sentence = modified_sentence.replace(key, value)\n",
        "\n",
        "#     df.at[index, 'Text'] = modified_sentence"
      ],
      "metadata": {
        "id": "fIRD37-iIF2N"
      },
      "execution_count": 230,
      "outputs": []
    },
    {
      "cell_type": "code",
      "source": [
        "# print(df['Text'])"
      ],
      "metadata": {
        "colab": {
          "base_uri": "https://localhost:8080/"
        },
        "id": "_0TGcTVNIF9i",
        "outputId": "1342d602-5620-47bf-b35f-d1da3b4e5b79"
      },
      "execution_count": 231,
      "outputs": [
        {
          "output_type": "stream",
          "name": "stdout",
          "text": [
            "0      They admitted making four trips to China and p...\n",
            "1      Kathleen Nott was born in Camberwell, London. ...\n",
            "2      WTheyn tTheyy returns to Theyr hotel room, a L...\n",
            "3      On 19 March 2007, during a campaign appearance...\n",
            "4      By ttheirs time, Karen Blixen had separated fr...\n",
            "                             ...                        \n",
            "449    They tTheyn agrees to name tThey gargoyle Gold...\n",
            "450    Disgusted with tThey family's ``mendacity'', B...\n",
            "451    TTheyy manipulates Michael into giving Theyr c...\n",
            "452    On April 4, 1986, Donal Theynahan wrote in tTh...\n",
            "453    Pleasant explains Vassey's guilty conscience m...\n",
            "Name: Text, Length: 454, dtype: object\n"
          ]
        }
      ]
    },
    {
      "cell_type": "code",
      "source": [
        "\n",
        "\n",
        "# nlp = spacy.load(\"en_core_web_sm\")\n",
        "\n",
        "# doc = nlp(\"He eat the pizza.\")\n",
        "# for token in doc:\n",
        "#     if token.dep_ == \"nsubj\" and token.head.pos_ == \"VERB\":\n",
        "#         print(f\"Pronoun '{token.text}' should agree with the verb '{token.head.text}'.\")\n",
        "\n",
        "# tool = LanguageTool('en-US')\n",
        "# text = \"After seeing an image of Venus, Vulcan, and Cupid, they deduces that it is a temple to Venus. Chaucer explores the temple until they finds a brass tablet recounting the Aeneid. Chaucer goes into much further detail during the story of Aeneas's betrayal of Dido, after which they lists other women in Greek mythology who were betrayed by their lovers, which led to their deaths.\"\n",
        "# corrected_text = tool.correct(text)\n"
      ],
      "metadata": {
        "id": "2l5CAY2RKahX"
      },
      "execution_count": null,
      "outputs": []
    },
    {
      "cell_type": "code",
      "source": [
        "\n",
        "\n"
      ],
      "metadata": {
        "id": "TwLIDAGhzs6r"
      },
      "execution_count": 213,
      "outputs": []
    },
    {
      "cell_type": "code",
      "source": [],
      "metadata": {
        "id": "YLQNhegY3JB-"
      },
      "execution_count": 167,
      "outputs": []
    },
    {
      "cell_type": "code",
      "source": [],
      "metadata": {
        "id": "Jka7q1Js3M1e"
      },
      "execution_count": 168,
      "outputs": []
    },
    {
      "cell_type": "code",
      "source": [],
      "metadata": {
        "id": "5hon9D4u3-8G"
      },
      "execution_count": 11,
      "outputs": []
    },
    {
      "cell_type": "code",
      "source": [],
      "metadata": {
        "id": "TXZ8L2t33_Cl"
      },
      "execution_count": 116,
      "outputs": []
    },
    {
      "cell_type": "code",
      "source": [],
      "metadata": {
        "id": "Qv7bNXpzzq_m"
      },
      "execution_count": 11,
      "outputs": []
    },
    {
      "cell_type": "code",
      "source": [],
      "metadata": {
        "id": "KKFUdOJ3-ZTt"
      },
      "execution_count": 11,
      "outputs": []
    },
    {
      "cell_type": "code",
      "source": [],
      "metadata": {
        "id": "4-f_QEmS23O8"
      },
      "execution_count": null,
      "outputs": []
    },
    {
      "cell_type": "code",
      "source": [],
      "metadata": {
        "id": "BPpSuzBB1kQA"
      },
      "execution_count": 11,
      "outputs": []
    },
    {
      "cell_type": "code",
      "source": [],
      "metadata": {
        "id": "CzgN61zeXoMQ"
      },
      "execution_count": 11,
      "outputs": []
    },
    {
      "cell_type": "code",
      "source": [],
      "metadata": {
        "id": "YFPmcbTRhvSj"
      },
      "execution_count": 232,
      "outputs": []
    },
    {
      "cell_type": "code",
      "source": [],
      "metadata": {
        "id": "rjs1nP0zhMnS"
      },
      "execution_count": 233,
      "outputs": []
    },
    {
      "cell_type": "code",
      "source": [],
      "metadata": {
        "id": "7l86jeKTpEWL"
      },
      "execution_count": 11,
      "outputs": []
    },
    {
      "cell_type": "code",
      "source": [],
      "metadata": {
        "id": "n58M85iIpEb0"
      },
      "execution_count": 235,
      "outputs": []
    },
    {
      "cell_type": "code",
      "source": [],
      "metadata": {
        "id": "GKJYFBp9pOgI"
      },
      "execution_count": 11,
      "outputs": []
    },
    {
      "cell_type": "markdown",
      "source": [],
      "metadata": {
        "id": "TxJKwGfktqIg"
      }
    },
    {
      "cell_type": "code",
      "source": [],
      "metadata": {
        "id": "XL9d102_pP87"
      },
      "execution_count": 11,
      "outputs": []
    },
    {
      "cell_type": "code",
      "source": [],
      "metadata": {
        "id": "JBnDJTFps5eu"
      },
      "execution_count": null,
      "outputs": []
    }
  ]
}